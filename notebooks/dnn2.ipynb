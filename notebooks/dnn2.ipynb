{
 "cells": [
  {
   "cell_type": "code",
   "execution_count": 192,
   "metadata": {},
   "outputs": [],
   "source": [
    "import pandas as pd\n",
    "import numpy as np\n",
    "\n",
    "from sklearn.preprocessing import LabelEncoder, StandardScaler\n",
    "from sklearn.model_selection import train_test_split\n",
    "\n",
    "from tensorflow.keras.models import Model\n",
    "from tensorflow.keras.layers import Input, Dense, Embedding, Flatten, Concatenate\n",
    "from tensorflow.keras.callbacks import EarlyStopping"
   ]
  },
  {
   "cell_type": "code",
   "execution_count": 193,
   "metadata": {},
   "outputs": [],
   "source": [
    "pd.set_option('display.width', 1000)\n",
    "pd.set_option('display.max_columns', None)"
   ]
  },
  {
   "cell_type": "code",
   "execution_count": 194,
   "metadata": {},
   "outputs": [
    {
     "name": "stdout",
     "output_type": "stream",
     "text": [
      "   Unnamed: 0        Date  Day  Month  Year  DayOfWeek  HomeTeam       AwayTeam  FTHG  FTAG FTR  HTHG  HTAG HTR      Referee    HS    AS   HST  AST   HC   AC    HF    AF   HY   AY   HR   AR  H14  A14 Attendance  Strictness  Season  Round  Hpts  Apts  HTS  ATS  HGSR  AGSR  Home_DS  Away_DS  Home_Form_Points  Away_Form_Points  Home_Goal_Diff_Form  Away_Goal_Diff_Form  Home_Win_Streak  Away_Win_Streak  Home_H2H_Win_Rate  Away_H2H_Win_Rate  HTV($m)  ATV($m)  HTPos_avg  ATPos_avg  HSPE (%)  HPE (%)  ASPE (%)  APE (%)\n",
      "0           0  19/08/2000   19      8  2000          7  Charlton       Man City   4.0   0.0   H   2.0   0.0   H     R Harris  17.0   8.0  14.0  4.0  6.0  6.0  13.0  12.0  1.0  2.0  0.0  0.0    0    0     20,043   15.272727    2000      1     0     0  0.0  0.0   0.0   0.0      0.0      0.0               0.0               0.0                  0.0                  0.0                0                0                0.0                0.0      NaN      NaN        NaN        NaN       NaN      NaN       NaN      NaN\n",
      "1           1  19/08/2000   19      8  2000          7   Chelsea       West Ham   4.0   2.0   H   1.0   0.0   H     G Barber  17.0  12.0  10.0  5.0  7.0  7.0  19.0  14.0  1.0  2.0  0.0  0.0    0    0     34,914   13.641026    2000      1     0     0  0.0  0.0   0.0   0.0      0.0      0.0               0.0               0.0                  0.0                  0.0                0                0                0.0                0.0      NaN      NaN        NaN        NaN       NaN      NaN       NaN      NaN\n",
      "2           2  19/08/2000   19      8  2000          7  Coventry  Middlesbrough   1.0   3.0   A   1.0   1.0   D     B Knight   6.0  16.0   3.0  9.0  8.0  4.0  15.0  21.0  5.0  3.0  1.0  0.0    0    0     20,624   12.253968    2000      1     0     0  0.0  0.0   0.0   0.0      0.0      0.0               0.0               0.0                  0.0                  0.0                0                0                0.0                0.0      NaN      NaN        NaN        NaN       NaN      NaN       NaN      NaN\n",
      "3           3  19/08/2000   19      8  2000          7     Derby    Southampton   2.0   2.0   D   1.0   2.0   A     A D'Urso   6.0  13.0   4.0  6.0  5.0  8.0  11.0  13.0  1.0  1.0  0.0  0.0    0    0     27,223   12.565657    2000      1     0     0  0.0  0.0   0.0   0.0      0.0      0.0               0.0               0.0                  0.0                  0.0                0                0                0.0                0.0      NaN      NaN        NaN        NaN       NaN      NaN       NaN      NaN\n",
      "4           4  19/08/2000   19      8  2000          7     Leeds        Everton   2.0   0.0   H   2.0   0.0   H  D Gallagher  17.0  12.0   8.0  6.0  6.0  4.0  21.0  20.0  1.0  3.0  0.0  0.0    0    0     40,010   10.110236    2000      1     0     0  0.0  0.0   0.0   0.0      0.0      0.0               0.0               0.0                  0.0                  0.0                0                0                0.0                0.0      NaN      NaN        NaN        NaN       NaN      NaN       NaN      NaN\n"
     ]
    }
   ],
   "source": [
    "df = pd.read_csv('../data/ALLDATA_v2.csv')\n",
    "print(df.head())"
   ]
  },
  {
   "cell_type": "code",
   "execution_count": 195,
   "metadata": {},
   "outputs": [],
   "source": [
    "from sklearn.impute import KNNImputer\n",
    "\n",
    "# Select features for KNN\n",
    "features = ['HS', 'AS', 'HST', 'AST', 'Hpts', 'Apts', 'Home_Form_Points', 'Away_Form_Points']\n",
    "target_columns = [\"HTPos_avg\", \"ATPos_avg\"]\n",
    "\n",
    "# Create a mask to identify rows with missing values\n",
    "missing_mask = df[target_columns].isnull()\n",
    "\n",
    "# Add missingness indicators to the DataFrame\n",
    "for col in target_columns:\n",
    "    df[f\"{col}_missing\"] = missing_mask[col].astype(int)\n",
    "\n",
    "# Create a copy of the data for imputation\n",
    "imputation_data = df[features + target_columns].copy()\n",
    "\n",
    "# Apply KNN imputation\n",
    "knn_imputer = KNNImputer(n_neighbors=5)\n",
    "imputed_data = knn_imputer.fit_transform(imputation_data)\n",
    "\n",
    "# Convert imputed data back to a DataFrame\n",
    "imputed_df = pd.DataFrame(imputed_data, columns=features + target_columns)\n",
    "\n",
    "# Replace only the missing values in the original DataFrame\n",
    "for col in target_columns:\n",
    "    df.loc[missing_mask[col], col] = imputed_df.loc[missing_mask[col], col]\n"
   ]
  },
  {
   "cell_type": "code",
   "execution_count": 196,
   "metadata": {},
   "outputs": [
    {
     "data": {
      "image/png": "[encoded data removed]",
      "text/plain": [
       "<Figure size 640x480 with 1 Axes>"
      ]
     },
     "metadata": {},
     "output_type": "display_data"
    }
   ],
   "source": [
    "import matplotlib.pyplot as plt\n",
    "\n",
    "# Visualize imputed vs. non-imputed values\n",
    "plt.hist(df['HTPos_avg'], bins=30, alpha=0.5, label='Home Pos Avg')\n",
    "plt.hist(df.loc[missing_mask['HTPos_avg'], 'HTPos_avg'], bins=30, alpha=0.5, label='Imputed Home Pos Avg')\n",
    "plt.legend()\n",
    "plt.show()"
   ]
  },
  {
   "cell_type": "code",
   "execution_count": 197,
   "metadata": {},
   "outputs": [
    {
     "name": "stdout",
     "output_type": "stream",
     "text": [
      "   Day  Month  Year  DayOfWeek  HomeTeam       AwayTeam FTR      Referee  H14  A14  Strictness  Season  Round  Hpts  Apts  HTS  ATS  HGSR  AGSR  Home_DS  Away_DS  Home_Form_Points  Away_Form_Points  Home_Goal_Diff_Form  Away_Goal_Diff_Form  Home_Win_Streak  Away_Win_Streak  Home_H2H_Win_Rate  Away_H2H_Win_Rate  HTPos_avg_missing  ATPos_avg_missing\n",
      "0   19      8  2000          7  Charlton       Man City   H     R Harris    0    0   15.272727    2000      1     0     0  0.0  0.0   0.0   0.0      0.0      0.0               0.0               0.0                  0.0                  0.0                0                0                0.0                0.0                  1                  1\n",
      "1   19      8  2000          7   Chelsea       West Ham   H     G Barber    0    0   13.641026    2000      1     0     0  0.0  0.0   0.0   0.0      0.0      0.0               0.0               0.0                  0.0                  0.0                0                0                0.0                0.0                  1                  1\n",
      "2   19      8  2000          7  Coventry  Middlesbrough   A     B Knight    0    0   12.253968    2000      1     0     0  0.0  0.0   0.0   0.0      0.0      0.0               0.0               0.0                  0.0                  0.0                0                0                0.0                0.0                  1                  1\n",
      "3   19      8  2000          7     Derby    Southampton   D     A D'Urso    0    0   12.565657    2000      1     0     0  0.0  0.0   0.0   0.0      0.0      0.0               0.0               0.0                  0.0                  0.0                0                0                0.0                0.0                  1                  1\n",
      "4   19      8  2000          7     Leeds        Everton   H  D Gallagher    0    0   10.110236    2000      1     0     0  0.0  0.0   0.0   0.0      0.0      0.0               0.0               0.0                  0.0                  0.0                0                0                0.0                0.0                  1                  1\n"
     ]
    }
   ],
   "source": [
    "df = df.drop(df.columns[0], axis=1)\n",
    "df = df.drop(columns=['Date', 'FTHG', 'FTAG', 'HTHG', 'HTAG', 'HTR', 'HS', 'AS', 'HST', 'AST', 'HC', 'AC', 'HF', 'AF', 'HY', 'AY', 'HR', 'AR', 'Attendance', \"HTV($m)\",\t\"ATV($m)\", \"HTPos_avg\", \"ATPos_avg\", \"HSPE (%)\", \"HPE (%)\", \"ASPE (%)\", \"APE (%)\"],axis=1)\n",
    "print(df.head())"
   ]
  },
  {
   "cell_type": "code",
   "execution_count": 198,
   "metadata": {},
   "outputs": [
    {
     "name": "stdout",
     "output_type": "stream",
     "text": [
      "   Day  Month  Year  DayOfWeek  H14  A14  Strictness  Season  Round  Hpts  Apts  HTS  ATS  HGSR  AGSR  Home_DS  Away_DS  Home_Form_Points  Away_Form_Points  Home_Goal_Diff_Form  Away_Goal_Diff_Form  Home_Win_Streak  Away_Win_Streak  Home_H2H_Win_Rate  Away_H2H_Win_Rate  HTPos_avg_missing  ATPos_avg_missing  HomeTeam_Arsenal  HomeTeam_Aston Villa  HomeTeam_Birmingham  HomeTeam_Blackburn  HomeTeam_Blackpool  HomeTeam_Bolton  HomeTeam_Bournemouth  HomeTeam_Bradford  HomeTeam_Brentford  HomeTeam_Brighton  HomeTeam_Burnley  HomeTeam_Cardiff  HomeTeam_Charlton  HomeTeam_Chelsea  HomeTeam_Coventry  HomeTeam_Crystal Palace  HomeTeam_Derby  HomeTeam_Everton  HomeTeam_Fulham  HomeTeam_Huddersfield  HomeTeam_Hull  HomeTeam_Ipswich  HomeTeam_Leeds  HomeTeam_Leicester  HomeTeam_Liverpool  HomeTeam_Luton  HomeTeam_Man City  HomeTeam_Man United  HomeTeam_Middlesbrough  HomeTeam_Newcastle  HomeTeam_Norwich  HomeTeam_Nott'm Forest  HomeTeam_Portsmouth  HomeTeam_QPR  HomeTeam_Reading  \\\n",
      "0   19      8  2000          7    0    0   15.272727    2000      1     0     0  0.0  0.0   0.0   0.0      0.0      0.0               0.0               0.0                  0.0                  0.0                0                0                0.0                0.0                  1                  1             False                 False                False               False               False            False                 False              False               False              False             False             False               True             False              False                    False           False             False            False                  False          False             False           False               False               False           False              False                False                   False               False             False                   False                False         False             False   \n",
      "1   19      8  2000          7    0    0   13.641026    2000      1     0     0  0.0  0.0   0.0   0.0      0.0      0.0               0.0               0.0                  0.0                  0.0                0                0                0.0                0.0                  1                  1             False                 False                False               False               False            False                 False              False               False              False             False             False              False              True              False                    False           False             False            False                  False          False             False           False               False               False           False              False                False                   False               False             False                   False                False         False             False   \n",
      "2   19      8  2000          7    0    0   12.253968    2000      1     0     0  0.0  0.0   0.0   0.0      0.0      0.0               0.0               0.0                  0.0                  0.0                0                0                0.0                0.0                  1                  1             False                 False                False               False               False            False                 False              False               False              False             False             False              False             False               True                    False           False             False            False                  False          False             False           False               False               False           False              False                False                   False               False             False                   False                False         False             False   \n",
      "3   19      8  2000          7    0    0   12.565657    2000      1     0     0  0.0  0.0   0.0   0.0      0.0      0.0               0.0               0.0                  0.0                  0.0                0                0                0.0                0.0                  1                  1             False                 False                False               False               False            False                 False              False               False              False             False             False              False             False              False                    False            True             False            False                  False          False             False           False               False               False           False              False                False                   False               False             False                   False                False         False             False   \n",
      "4   19      8  2000          7    0    0   10.110236    2000      1     0     0  0.0  0.0   0.0   0.0      0.0      0.0               0.0               0.0                  0.0                  0.0                0                0                0.0                0.0                  1                  1             False                 False                False               False               False            False                 False              False               False              False             False             False              False             False              False                    False           False             False            False                  False          False             False            True               False               False           False              False                False                   False               False             False                   False                False         False             False   \n",
      "\n",
      "   HomeTeam_Sheffield United  HomeTeam_Southampton  HomeTeam_Stoke  HomeTeam_Sunderland  HomeTeam_Swansea  HomeTeam_Tottenham  HomeTeam_Watford  HomeTeam_West Brom  HomeTeam_West Ham  HomeTeam_Wigan  HomeTeam_Wolves  AwayTeam_Arsenal  AwayTeam_Aston Villa  AwayTeam_Birmingham  AwayTeam_Blackburn  AwayTeam_Blackpool  AwayTeam_Bolton  AwayTeam_Bournemouth  AwayTeam_Bradford  AwayTeam_Brentford  AwayTeam_Brighton  AwayTeam_Burnley  AwayTeam_Cardiff  AwayTeam_Charlton  AwayTeam_Chelsea  AwayTeam_Coventry  AwayTeam_Crystal Palace  AwayTeam_Derby  AwayTeam_Everton  AwayTeam_Fulham  AwayTeam_Huddersfield  AwayTeam_Hull  AwayTeam_Ipswich  AwayTeam_Leeds  AwayTeam_Leicester  AwayTeam_Liverpool  AwayTeam_Luton  AwayTeam_Man City  AwayTeam_Man United  AwayTeam_Middlesbrough  AwayTeam_Newcastle  AwayTeam_Norwich  AwayTeam_Nott'm Forest  AwayTeam_Portsmouth  AwayTeam_QPR  AwayTeam_Reading  AwayTeam_Sheffield United  AwayTeam_Southampton  AwayTeam_Stoke  AwayTeam_Sunderland  AwayTeam_Swansea  \\\n",
      "0                      False                 False           False                False             False               False             False               False              False           False            False             False                 False                False               False               False            False                 False              False               False              False             False             False              False             False              False                    False           False             False            False                  False          False             False           False               False               False           False               True                False                   False               False             False                   False                False         False             False                      False                 False           False                False             False   \n",
      "1                      False                 False           False                False             False               False             False               False              False           False            False             False                 False                False               False               False            False                 False              False               False              False             False             False              False             False              False                    False           False             False            False                  False          False             False           False               False               False           False              False                False                   False               False             False                   False                False         False             False                      False                 False           False                False             False   \n",
      "2                      False                 False           False                False             False               False             False               False              False           False            False             False                 False                False               False               False            False                 False              False               False              False             False             False              False             False              False                    False           False             False            False                  False          False             False           False               False               False           False              False                False                    True               False             False                   False                False         False             False                      False                 False           False                False             False   \n",
      "3                      False                 False           False                False             False               False             False               False              False           False            False             False                 False                False               False               False            False                 False              False               False              False             False             False              False             False              False                    False           False             False            False                  False          False             False           False               False               False           False              False                False                   False               False             False                   False                False         False             False                      False                  True           False                False             False   \n",
      "4                      False                 False           False                False             False               False             False               False              False           False            False             False                 False                False               False               False            False                 False              False               False              False             False             False              False             False              False                    False           False              True            False                  False          False             False           False               False               False           False              False                False                   False               False             False                   False                False         False             False                      False                 False           False                False             False   \n",
      "\n",
      "   AwayTeam_Tottenham  AwayTeam_Watford  AwayTeam_West Brom  AwayTeam_West Ham  AwayTeam_Wigan  AwayTeam_Wolves  Referee_A D'Urso  Referee_A Hall  Referee_A Madley  Referee_A Marriner  Referee_A Moss  Referee_A Taylor  Referee_A Wiley  Referee_B Knight  Referee_C Foy  Referee_C Kavanagh  Referee_C Pawson  Referee_C Salisbury  Referee_C Wilkes  Referee_D Bond  Referee_D Coote  Referee_D Ellaray  Referee_D Elleray  Referee_D England  Referee_D Gallagher  Referee_D Pugh  Referee_E Wolstenholme  Referee_F Taylor  Referee_G Barber  Referee_G Poll  Referee_G Scott  Referee_Graham Barber  Referee_H Webb  Referee_I Harris  Referee_I Williamson  Referee_J Brooks  Referee_J Gillett  Referee_J Gillett   Referee_J Moss  Referee_J Smith  Referee_J Winter  Referee_K Friend  Referee_K Stroud  Referee_L Mason  Referee_L Probert  Referee_L Smith  Referee_M Atkinson  Referee_M Clattenburg  Referee_M Dean  Referee_M Donohue  Referee_M Halsey  Referee_M Jones  Referee_M Messias  Referee_M Oliver  \\\n",
      "0               False             False               False              False           False            False             False           False             False               False           False             False            False             False          False               False             False                False             False           False            False              False              False              False                False           False                   False             False             False           False            False                  False           False             False                 False             False              False               False           False            False             False             False             False            False              False            False               False                  False           False              False             False            False              False             False   \n",
      "1               False             False               False               True           False            False             False           False             False               False           False             False            False             False          False               False             False                False             False           False            False              False              False              False                False           False                   False             False              True           False            False                  False           False             False                 False             False              False               False           False            False             False             False             False            False              False            False               False                  False           False              False             False            False              False             False   \n",
      "2               False             False               False              False           False            False             False           False             False               False           False             False            False              True          False               False             False                False             False           False            False              False              False              False                False           False                   False             False             False           False            False                  False           False             False                 False             False              False               False           False            False             False             False             False            False              False            False               False                  False           False              False             False            False              False             False   \n",
      "3               False             False               False              False           False            False              True           False             False               False           False             False            False             False          False               False             False                False             False           False            False              False              False              False                False           False                   False             False             False           False            False                  False           False             False                 False             False              False               False           False            False             False             False             False            False              False            False               False                  False           False              False             False            False              False             False   \n",
      "4               False             False               False              False           False            False             False           False             False               False           False             False            False             False          False               False             False                False             False           False            False              False              False              False                 True           False                   False             False             False           False            False                  False           False             False                 False             False              False               False           False            False             False             False             False            False              False            False               False                  False           False              False             False            False              False             False   \n",
      "\n",
      "   Referee_M Riley  Referee_M Salisbury  Referee_Mn Atkinson  Referee_N Barry  Referee_N Swarbrick  Referee_N Yates  Referee_O Langford  Referee_P Bankes  Referee_P Crossley  Referee_P Dowd  Referee_P Durkin  Referee_P Jones  Referee_P Taylor  Referee_P Tierney  Referee_P Walton  Referee_R Beeby  Referee_R Burton  Referee_R East  Referee_R Harris  Referee_R Jones  Referee_R Madley  Referee_R Martin  Referee_R Styles  Referee_R Welch  Referee_S Allison  Referee_S Attwell  Referee_S Barrott  Referee_S Bennett  Referee_S Dunn  Referee_S Hooper  Referee_S Lodge  Referee_S Scott  Referee_S Singh  Referee_S Tanner  Referee_St Bennett  Referee_T Bramall  Referee_T Harrington  Referee_T Robinson  Referee_U Rennie  Referee_W G  Referee_l Mason  FTR_A  FTR_D  FTR_H  \n",
      "0            False                False                False            False                False            False               False             False               False           False             False            False             False              False             False            False             False           False              True            False             False             False             False            False              False              False              False              False           False             False            False            False            False             False               False              False                 False               False             False        False            False  False  False   True  \n",
      "1            False                False                False            False                False            False               False             False               False           False             False            False             False              False             False            False             False           False             False            False             False             False             False            False              False              False              False              False           False             False            False            False            False             False               False              False                 False               False             False        False            False  False  False   True  \n",
      "2            False                False                False            False                False            False               False             False               False           False             False            False             False              False             False            False             False           False             False            False             False             False             False            False              False              False              False              False           False             False            False            False            False             False               False              False                 False               False             False        False            False   True  False  False  \n",
      "3            False                False                False            False                False            False               False             False               False           False             False            False             False              False             False            False             False           False             False            False             False             False             False            False              False              False              False              False           False             False            False            False            False             False               False              False                 False               False             False        False            False  False   True  False  \n",
      "4            False                False                False            False                False            False               False             False               False           False             False            False             False              False             False            False             False           False             False            False             False             False             False            False              False              False              False              False           False             False            False            False            False             False               False              False                 False               False             False        False            False  False  False   True  \n"
     ]
    }
   ],
   "source": [
    "one_hot_encoded_hometeam = pd.get_dummies(df['HomeTeam'], prefix='HomeTeam')\n",
    "one_hot_encoded_awayteam = pd.get_dummies(df['AwayTeam'], prefix='AwayTeam')\n",
    "one_hot_encoded_referee = pd.get_dummies(df['Referee'], prefix='Referee')\n",
    "one_hot_encoded_ftr = pd.get_dummies(df['FTR'], prefix='FTR')\n",
    "df = pd.concat([df, one_hot_encoded_hometeam, one_hot_encoded_awayteam, one_hot_encoded_referee, one_hot_encoded_ftr], axis=1)\n",
    "df = df.drop(columns=['HomeTeam', 'AwayTeam', 'Referee', 'FTR'], axis=1)\n",
    "print(df.head())"
   ]
  },
  {
   "cell_type": "code",
   "execution_count": 201,
   "metadata": {},
   "outputs": [],
   "source": [
    "import pandas as pd\n",
    "import numpy as np\n",
    "from sklearn.model_selection import train_test_split\n",
    "from sklearn.preprocessing import StandardScaler\n",
    "from tensorflow.keras.models import Sequential\n",
    "from tensorflow.keras.layers import Dense, Dropout\n",
    "from tensorflow.keras.optimizers import Adam\n",
    "from tensorflow.keras.callbacks import EarlyStopping, ReduceLROnPlateau\n",
    "from sklearn.utils.class_weight import compute_class_weight\n",
    "from sklearn.metrics import confusion_matrix, classification_report\n",
    "from tensorflow.keras.layers import BatchNormalization\n",
    "import keras_tuner\n",
    "\n",
    "X = df.drop(columns=['FTR_A', 'FTR_D', 'FTR_H'])\n",
    "y = df[['FTR_A', 'FTR_D', 'FTR_H']]\n"
   ]
  },
  {
   "cell_type": "code",
   "execution_count": 204,
   "metadata": {},
   "outputs": [
    {
     "name": "stdout",
     "output_type": "stream",
     "text": [
      "Epoch 1/100\n"
     ]
    },
    {
     "name": "stderr",
     "output_type": "stream",
     "text": [
      "/opt/homebrew/lib/python3.10/site-packages/keras/src/layers/core/dense.py:87: UserWarning: Do not pass an `input_shape`/`input_dim` argument to a layer. When using Sequential models, prefer using an `Input(shape)` object as the first layer in the model instead.\n",
      "  super().__init__(activity_regularizer=activity_regularizer, **kwargs)\n"
     ]
    },
    {
     "name": "stdout",
     "output_type": "stream",
     "text": [
      "\u001b[1m183/183\u001b[0m \u001b[32m━━━━━━━━━━━━━━━━━━━━\u001b[0m\u001b[37m\u001b[0m \u001b[1m1s\u001b[0m 3ms/step - accuracy: 0.3881 - loss: 1.1321 - val_accuracy: 0.4534 - val_loss: 1.0483 - learning_rate: 0.0010\n",
      "Epoch 2/100\n",
      "\u001b[1m183/183\u001b[0m \u001b[32m━━━━━━━━━━━━━━━━━━━━\u001b[0m\u001b[37m\u001b[0m \u001b[1m1s\u001b[0m 3ms/step - accuracy: 0.4606 - loss: 1.0364 - val_accuracy: 0.5007 - val_loss: 1.0135 - learning_rate: 0.0010\n",
      "Epoch 3/100\n",
      "\u001b[1m183/183\u001b[0m \u001b[32m━━━━━━━━━━━━━━━━━━━━\u001b[0m\u001b[37m\u001b[0m \u001b[1m1s\u001b[0m 3ms/step - accuracy: 0.4787 - loss: 1.0354 - val_accuracy: 0.4801 - val_loss: 1.0269 - learning_rate: 0.0010\n",
      "Epoch 4/100\n",
      "\u001b[1m183/183\u001b[0m \u001b[32m━━━━━━━━━━━━━━━━━━━━\u001b[0m\u001b[37m\u001b[0m \u001b[1m1s\u001b[0m 3ms/step - accuracy: 0.4799 - loss: 1.0288 - val_accuracy: 0.5068 - val_loss: 1.0133 - learning_rate: 0.0010\n",
      "Epoch 5/100\n",
      "\u001b[1m183/183\u001b[0m \u001b[32m━━━━━━━━━━━━━━━━━━━━\u001b[0m\u001b[37m\u001b[0m \u001b[1m1s\u001b[0m 3ms/step - accuracy: 0.5083 - loss: 1.0076 - val_accuracy: 0.4870 - val_loss: 1.0247 - learning_rate: 0.0010\n",
      "Epoch 6/100\n",
      "\u001b[1m183/183\u001b[0m \u001b[32m━━━━━━━━━━━━━━━━━━━━\u001b[0m\u001b[37m\u001b[0m \u001b[1m1s\u001b[0m 4ms/step - accuracy: 0.5057 - loss: 1.0102 - val_accuracy: 0.5048 - val_loss: 1.0090 - learning_rate: 0.0010\n",
      "Epoch 7/100\n",
      "\u001b[1m183/183\u001b[0m \u001b[32m━━━━━━━━━━━━━━━━━━━━\u001b[0m\u001b[37m\u001b[0m \u001b[1m1s\u001b[0m 4ms/step - accuracy: 0.5347 - loss: 0.9744 - val_accuracy: 0.4705 - val_loss: 1.0246 - learning_rate: 0.0010\n",
      "Epoch 8/100\n",
      "\u001b[1m183/183\u001b[0m \u001b[32m━━━━━━━━━━━━━━━━━━━━\u001b[0m\u001b[37m\u001b[0m \u001b[1m1s\u001b[0m 3ms/step - accuracy: 0.5309 - loss: 0.9734 - val_accuracy: 0.4548 - val_loss: 1.0335 - learning_rate: 0.0010\n",
      "Epoch 9/100\n",
      "\u001b[1m183/183\u001b[0m \u001b[32m━━━━━━━━━━━━━━━━━━━━\u001b[0m\u001b[37m\u001b[0m \u001b[1m1s\u001b[0m 3ms/step - accuracy: 0.5397 - loss: 0.9491 - val_accuracy: 0.4747 - val_loss: 1.0196 - learning_rate: 0.0010\n",
      "Epoch 10/100\n",
      "\u001b[1m183/183\u001b[0m \u001b[32m━━━━━━━━━━━━━━━━━━━━\u001b[0m\u001b[37m\u001b[0m \u001b[1m1s\u001b[0m 3ms/step - accuracy: 0.5545 - loss: 0.9375 - val_accuracy: 0.4507 - val_loss: 1.0367 - learning_rate: 0.0010\n",
      "Epoch 11/100\n",
      "\u001b[1m183/183\u001b[0m \u001b[32m━━━━━━━━━━━━━━━━━━━━\u001b[0m\u001b[37m\u001b[0m \u001b[1m1s\u001b[0m 3ms/step - accuracy: 0.5805 - loss: 0.9028 - val_accuracy: 0.4130 - val_loss: 1.0560 - learning_rate: 0.0010\n",
      "Epoch 12/100\n",
      "\u001b[1m183/183\u001b[0m \u001b[32m━━━━━━━━━━━━━━━━━━━━\u001b[0m\u001b[37m\u001b[0m \u001b[1m1s\u001b[0m 3ms/step - accuracy: 0.5751 - loss: 0.8758 - val_accuracy: 0.4719 - val_loss: 1.0347 - learning_rate: 0.0010\n",
      "Epoch 13/100\n",
      "\u001b[1m183/183\u001b[0m \u001b[32m━━━━━━━━━━━━━━━━━━━━\u001b[0m\u001b[37m\u001b[0m \u001b[1m1s\u001b[0m 3ms/step - accuracy: 0.5893 - loss: 0.8814 - val_accuracy: 0.4685 - val_loss: 1.0387 - learning_rate: 0.0010\n",
      "Epoch 14/100\n",
      "\u001b[1m183/183\u001b[0m \u001b[32m━━━━━━━━━━━━━━━━━━━━\u001b[0m\u001b[37m\u001b[0m \u001b[1m1s\u001b[0m 3ms/step - accuracy: 0.6039 - loss: 0.8509 - val_accuracy: 0.4582 - val_loss: 1.0538 - learning_rate: 0.0010\n",
      "Epoch 15/100\n",
      "\u001b[1m183/183\u001b[0m \u001b[32m━━━━━━━━━━━━━━━━━━━━\u001b[0m\u001b[37m\u001b[0m \u001b[1m1s\u001b[0m 3ms/step - accuracy: 0.6159 - loss: 0.8310 - val_accuracy: 0.4562 - val_loss: 1.0751 - learning_rate: 0.0010\n",
      "Epoch 16/100\n",
      "\u001b[1m181/183\u001b[0m \u001b[32m━━━━━━━━━━━━━━━━━━━\u001b[0m\u001b[37m━\u001b[0m \u001b[1m0s\u001b[0m 3ms/step - accuracy: 0.6374 - loss: 0.7794\n",
      "Epoch 16: ReduceLROnPlateau reducing learning rate to 0.0005000000237487257.\n",
      "\u001b[1m183/183\u001b[0m \u001b[32m━━━━━━━━━━━━━━━━━━━━\u001b[0m\u001b[37m\u001b[0m \u001b[1m1s\u001b[0m 3ms/step - accuracy: 0.6372 - loss: 0.7799 - val_accuracy: 0.4247 - val_loss: 1.1093 - learning_rate: 0.0010\n",
      "Epoch 17/100\n",
      "\u001b[1m183/183\u001b[0m \u001b[32m━━━━━━━━━━━━━━━━━━━━\u001b[0m\u001b[37m\u001b[0m \u001b[1m1s\u001b[0m 3ms/step - accuracy: 0.6489 - loss: 0.7487 - val_accuracy: 0.4459 - val_loss: 1.1413 - learning_rate: 5.0000e-04\n",
      "Epoch 18/100\n",
      "\u001b[1m183/183\u001b[0m \u001b[32m━━━━━━━━━━━━━━━━━━━━\u001b[0m\u001b[37m\u001b[0m \u001b[1m1s\u001b[0m 3ms/step - accuracy: 0.6750 - loss: 0.7113 - val_accuracy: 0.4459 - val_loss: 1.1684 - learning_rate: 5.0000e-04\n",
      "Epoch 19/100\n",
      "\u001b[1m183/183\u001b[0m \u001b[32m━━━━━━━━━━━━━━━━━━━━\u001b[0m\u001b[37m\u001b[0m \u001b[1m1s\u001b[0m 3ms/step - accuracy: 0.6946 - loss: 0.6845 - val_accuracy: 0.4384 - val_loss: 1.1616 - learning_rate: 5.0000e-04\n",
      "Epoch 20/100\n",
      "\u001b[1m183/183\u001b[0m \u001b[32m━━━━━━━━━━━━━━━━━━━━\u001b[0m\u001b[37m\u001b[0m \u001b[1m1s\u001b[0m 3ms/step - accuracy: 0.7094 - loss: 0.6537 - val_accuracy: 0.4452 - val_loss: 1.1756 - learning_rate: 5.0000e-04\n",
      "Epoch 21/100\n",
      "\u001b[1m183/183\u001b[0m \u001b[32m━━━━━━━━━━━━━━━━━━━━\u001b[0m\u001b[37m\u001b[0m \u001b[1m1s\u001b[0m 3ms/step - accuracy: 0.7107 - loss: 0.6429 - val_accuracy: 0.4418 - val_loss: 1.1910 - learning_rate: 5.0000e-04\n",
      "Epoch 22/100\n",
      "\u001b[1m183/183\u001b[0m \u001b[32m━━━━━━━━━━━━━━━━━━━━\u001b[0m\u001b[37m\u001b[0m \u001b[1m1s\u001b[0m 3ms/step - accuracy: 0.7197 - loss: 0.6324 - val_accuracy: 0.4466 - val_loss: 1.2386 - learning_rate: 5.0000e-04\n",
      "Epoch 23/100\n",
      "\u001b[1m183/183\u001b[0m \u001b[32m━━━━━━━━━━━━━━━━━━━━\u001b[0m\u001b[37m\u001b[0m \u001b[1m1s\u001b[0m 4ms/step - accuracy: 0.7182 - loss: 0.6053 - val_accuracy: 0.4363 - val_loss: 1.2087 - learning_rate: 5.0000e-04\n",
      "Epoch 24/100\n",
      "\u001b[1m183/183\u001b[0m \u001b[32m━━━━━━━━━━━━━━━━━━━━\u001b[0m\u001b[37m\u001b[0m \u001b[1m1s\u001b[0m 3ms/step - accuracy: 0.7538 - loss: 0.5734 - val_accuracy: 0.4623 - val_loss: 1.2544 - learning_rate: 5.0000e-04\n",
      "Epoch 25/100\n",
      "\u001b[1m183/183\u001b[0m \u001b[32m━━━━━━━━━━━━━━━━━━━━\u001b[0m\u001b[37m\u001b[0m \u001b[1m1s\u001b[0m 4ms/step - accuracy: 0.7440 - loss: 0.5657 - val_accuracy: 0.4336 - val_loss: 1.2481 - learning_rate: 5.0000e-04\n",
      "Epoch 26/100\n",
      "\u001b[1m179/183\u001b[0m \u001b[32m━━━━━━━━━━━━━━━━━━━\u001b[0m\u001b[37m━\u001b[0m \u001b[1m0s\u001b[0m 3ms/step - accuracy: 0.7433 - loss: 0.5709\n",
      "Epoch 26: ReduceLROnPlateau reducing learning rate to 0.0002500000118743628.\n",
      "\u001b[1m183/183\u001b[0m \u001b[32m━━━━━━━━━━━━━━━━━━━━\u001b[0m\u001b[37m\u001b[0m \u001b[1m1s\u001b[0m 3ms/step - accuracy: 0.7433 - loss: 0.5710 - val_accuracy: 0.4527 - val_loss: 1.2625 - learning_rate: 5.0000e-04\n",
      "Epoch 26: early stopping\n",
      "Restoring model weights from the end of the best epoch: 6.\n",
      "\u001b[1m57/57\u001b[0m \u001b[32m━━━━━━━━━━━━━━━━━━━━\u001b[0m\u001b[37m\u001b[0m \u001b[1m0s\u001b[0m 988us/step - accuracy: 0.4927 - loss: 1.0348\n",
      "Test Accuracy: 0.49\n",
      "\u001b[1m57/57\u001b[0m \u001b[32m━━━━━━━━━━━━━━━━━━━━\u001b[0m\u001b[37m\u001b[0m \u001b[1m0s\u001b[0m 805us/step\n",
      "Confusion Matrix:\n",
      "[[305  80 161]\n",
      " [157  85 198]\n",
      " [203 132 503]]\n",
      "Classification Report:\n",
      "              precision    recall  f1-score   support\n",
      "\n",
      "           0       0.46      0.56      0.50       546\n",
      "           1       0.29      0.19      0.23       440\n",
      "           2       0.58      0.60      0.59       838\n",
      "\n",
      "    accuracy                           0.49      1824\n",
      "   macro avg       0.44      0.45      0.44      1824\n",
      "weighted avg       0.47      0.49      0.48      1824\n",
      "\n"
     ]
    }
   ],
   "source": [
    "X_train, X_test, y_train, y_test = train_test_split(X, y, test_size=0.2, random_state=42)\n",
    "scaler = StandardScaler()\n",
    "X_train = scaler.fit_transform(X_train)\n",
    "X_test = scaler.transform(X_test)\n",
    "\n",
    "class_weights = compute_class_weight(\n",
    "    class_weight='balanced',\n",
    "    classes=np.arange(y.shape[1]),\n",
    "    y=np.argmax(y.values, axis=1)\n",
    ")\n",
    "class_weights = dict(enumerate(class_weights))\n",
    "\n",
    "model = Sequential([\n",
    "    Dense(512, activation='relu', input_shape=(X_train.shape[1],)),\n",
    "    Dropout(0.4),\n",
    "    Dense(256, activation='relu', input_shape=(X_train.shape[1],)),\n",
    "    Dropout(0.4),\n",
    "    Dense(128, activation='relu'),\n",
    "    Dropout(0.4),\n",
    "    Dense(64, activation='relu'),\n",
    "    Dense(y_train.shape[1], activation='softmax')\n",
    "])\n",
    "\n",
    "model.compile(\n",
    "    optimizer=Adam(learning_rate=0.001),\n",
    "    loss='categorical_crossentropy',\n",
    "    metrics=['accuracy']\n",
    ")\n",
    "\n",
    "early_stopping = EarlyStopping(monitor='val_loss', patience=20, restore_best_weights=True, verbose=1)\n",
    "reduce_lr = ReduceLROnPlateau(monitor='val_loss', factor=0.5, patience=10, verbose=1)\n",
    "\n",
    "history = model.fit(\n",
    "    X_train, y_train,\n",
    "    epochs=100,\n",
    "    batch_size=32,\n",
    "    validation_split=0.2,\n",
    "    class_weight=class_weights,\n",
    "    callbacks=[early_stopping, reduce_lr],\n",
    "    verbose=1\n",
    ")\n",
    "\n",
    "test_loss, test_accuracy = model.evaluate(X_test, y_test)\n",
    "print(f\"Test Accuracy: {test_accuracy:.2f}\")\n",
    "\n",
    "y_pred = model.predict(X_test)\n",
    "y_pred_original = np.argmax(y_pred, axis=1)\n",
    "y_test_original = np.argmax(y_test.values, axis=1)\n",
    "\n",
    "print(\"Confusion Matrix:\")\n",
    "print(confusion_matrix(y_test_original, y_pred_original))\n",
    "\n",
    "print(\"Classification Report:\")\n",
    "print(classification_report(y_test_original, y_pred_original))\n"
   ]
  }
 ],
 "metadata": {
  "kernelspec": {
   "display_name": "Python 3",
   "language": "python",
   "name": "python3"
  },
  "language_info": {
   "codemirror_mode": {
    "name": "ipython",
    "version": 3
   },
   "file_extension": ".py",
   "mimetype": "text/x-python",
   "name": "python",
   "nbconvert_exporter": "python",
   "pygments_lexer": "ipython3",
   "version": "3.10.16"
  }
 },
 "nbformat": 4,
 "nbformat_minor": 2
}
